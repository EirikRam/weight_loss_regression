{
 "cells": [
  {
   "metadata": {},
   "cell_type": "markdown",
   "source": "Load Processed Data and Prepare Inputs",
   "id": "fbd2f09c2252a313"
  },
  {
   "metadata": {
    "ExecuteTime": {
     "end_time": "2025-05-27T23:13:59.996420Z",
     "start_time": "2025-05-27T23:13:59.062901Z"
    }
   },
   "cell_type": "code",
   "source": [
    "import pandas as pd\n",
    "from sklearn.model_selection import train_test_split\n",
    "from sklearn.preprocessing import StandardScaler\n",
    "\n",
    "# Load cleaned dataset\n",
    "df = pd.read_csv('../data/processed/cleaned_data.csv')\n",
    "\n",
    "# Split into features (X) and target (y)\n",
    "X = df.drop(columns=['Calories']).values\n",
    "y = df[['Calories']].values\n",
    "\n",
    "# Split into train/test\n",
    "X_train, X_test, y_train, y_test = train_test_split(X, y, test_size=0.2, random_state=42)\n",
    "\n",
    "# Normalize features (important for gradient-based optimization)\n",
    "scaler = StandardScaler()\n",
    "X_train_scaled = scaler.fit_transform(X_train)\n",
    "X_test_scaled = scaler.transform(X_test)\n"
   ],
   "id": "efd55bf6e2e9e4b3",
   "outputs": [],
   "execution_count": 1
  },
  {
   "metadata": {},
   "cell_type": "markdown",
   "source": "Build and Compile the Model",
   "id": "2a59a2c6e0d17dcf"
  },
  {
   "metadata": {
    "ExecuteTime": {
     "end_time": "2025-05-27T23:17:03.925176Z",
     "start_time": "2025-05-27T23:17:03.910220Z"
    }
   },
   "cell_type": "code",
   "source": [
    "import tensorflow as tf\n",
    "\n",
    "# Define a simple linear model with multiple inputs\n",
    "model = tf.keras.Sequential([\n",
    "    tf.keras.Input(shape=(X_train.shape[1],)),\n",
    "    tf.keras.layers.Dense(units=1)\n",
    "])\n",
    "\n",
    "# Compile the model\n",
    "model.compile(optimizer=tf.keras.optimizers.SGD(learning_rate=0.01),\n",
    "              loss='mean_squared_error')\n"
   ],
   "id": "b1f1de102013dd48",
   "outputs": [],
   "execution_count": 3
  },
  {
   "metadata": {},
   "cell_type": "markdown",
   "source": "Train the Model",
   "id": "766df50c232f0963"
  },
  {
   "metadata": {
    "ExecuteTime": {
     "end_time": "2025-05-27T23:18:44.772688Z",
     "start_time": "2025-05-27T23:18:11.861865Z"
    }
   },
   "cell_type": "code",
   "source": [
    "# Train the model\n",
    "history = model.fit(X_train_scaled, y_train, epochs=100, verbose=1)\n"
   ],
   "id": "eaee782f195d57a4",
   "outputs": [
    {
     "name": "stdout",
     "output_type": "stream",
     "text": [
      "Epoch 1/100\n",
      "\u001B[1m375/375\u001B[0m \u001B[32m━━━━━━━━━━━━━━━━━━━━\u001B[0m\u001B[37m\u001B[0m \u001B[1m0s\u001B[0m 839us/step - loss: 2503.7991\n",
      "Epoch 2/100\n",
      "\u001B[1m375/375\u001B[0m \u001B[32m━━━━━━━━━━━━━━━━━━━━\u001B[0m\u001B[37m\u001B[0m \u001B[1m0s\u001B[0m 831us/step - loss: 172.5656\n",
      "Epoch 3/100\n",
      "\u001B[1m375/375\u001B[0m \u001B[32m━━━━━━━━━━━━━━━━━━━━\u001B[0m\u001B[37m\u001B[0m \u001B[1m0s\u001B[0m 874us/step - loss: 139.9382\n",
      "Epoch 4/100\n",
      "\u001B[1m375/375\u001B[0m \u001B[32m━━━━━━━━━━━━━━━━━━━━\u001B[0m\u001B[37m\u001B[0m \u001B[1m0s\u001B[0m 898us/step - loss: 130.9380\n",
      "Epoch 5/100\n",
      "\u001B[1m375/375\u001B[0m \u001B[32m━━━━━━━━━━━━━━━━━━━━\u001B[0m\u001B[37m\u001B[0m \u001B[1m0s\u001B[0m 857us/step - loss: 132.4664\n",
      "Epoch 6/100\n",
      "\u001B[1m375/375\u001B[0m \u001B[32m━━━━━━━━━━━━━━━━━━━━\u001B[0m\u001B[37m\u001B[0m \u001B[1m0s\u001B[0m 878us/step - loss: 130.0597\n",
      "Epoch 7/100\n",
      "\u001B[1m375/375\u001B[0m \u001B[32m━━━━━━━━━━━━━━━━━━━━\u001B[0m\u001B[37m\u001B[0m \u001B[1m0s\u001B[0m 906us/step - loss: 125.7477\n",
      "Epoch 8/100\n",
      "\u001B[1m375/375\u001B[0m \u001B[32m━━━━━━━━━━━━━━━━━━━━\u001B[0m\u001B[37m\u001B[0m \u001B[1m0s\u001B[0m 859us/step - loss: 129.4296\n",
      "Epoch 9/100\n",
      "\u001B[1m375/375\u001B[0m \u001B[32m━━━━━━━━━━━━━━━━━━━━\u001B[0m\u001B[37m\u001B[0m \u001B[1m0s\u001B[0m 879us/step - loss: 129.8009\n",
      "Epoch 10/100\n",
      "\u001B[1m375/375\u001B[0m \u001B[32m━━━━━━━━━━━━━━━━━━━━\u001B[0m\u001B[37m\u001B[0m \u001B[1m0s\u001B[0m 871us/step - loss: 125.9718\n",
      "Epoch 11/100\n",
      "\u001B[1m375/375\u001B[0m \u001B[32m━━━━━━━━━━━━━━━━━━━━\u001B[0m\u001B[37m\u001B[0m \u001B[1m0s\u001B[0m 939us/step - loss: 126.1842\n",
      "Epoch 12/100\n",
      "\u001B[1m375/375\u001B[0m \u001B[32m━━━━━━━━━━━━━━━━━━━━\u001B[0m\u001B[37m\u001B[0m \u001B[1m0s\u001B[0m 845us/step - loss: 126.9536\n",
      "Epoch 13/100\n",
      "\u001B[1m375/375\u001B[0m \u001B[32m━━━━━━━━━━━━━━━━━━━━\u001B[0m\u001B[37m\u001B[0m \u001B[1m0s\u001B[0m 833us/step - loss: 130.1583\n",
      "Epoch 14/100\n",
      "\u001B[1m375/375\u001B[0m \u001B[32m━━━━━━━━━━━━━━━━━━━━\u001B[0m\u001B[37m\u001B[0m \u001B[1m0s\u001B[0m 832us/step - loss: 128.8886\n",
      "Epoch 15/100\n",
      "\u001B[1m375/375\u001B[0m \u001B[32m━━━━━━━━━━━━━━━━━━━━\u001B[0m\u001B[37m\u001B[0m \u001B[1m0s\u001B[0m 834us/step - loss: 127.7954\n",
      "Epoch 16/100\n",
      "\u001B[1m375/375\u001B[0m \u001B[32m━━━━━━━━━━━━━━━━━━━━\u001B[0m\u001B[37m\u001B[0m \u001B[1m0s\u001B[0m 824us/step - loss: 129.2864\n",
      "Epoch 17/100\n",
      "\u001B[1m375/375\u001B[0m \u001B[32m━━━━━━━━━━━━━━━━━━━━\u001B[0m\u001B[37m\u001B[0m \u001B[1m0s\u001B[0m 841us/step - loss: 132.4127\n",
      "Epoch 18/100\n",
      "\u001B[1m375/375\u001B[0m \u001B[32m━━━━━━━━━━━━━━━━━━━━\u001B[0m\u001B[37m\u001B[0m \u001B[1m0s\u001B[0m 800us/step - loss: 125.4703\n",
      "Epoch 19/100\n",
      "\u001B[1m375/375\u001B[0m \u001B[32m━━━━━━━━━━━━━━━━━━━━\u001B[0m\u001B[37m\u001B[0m \u001B[1m0s\u001B[0m 814us/step - loss: 126.0738\n",
      "Epoch 20/100\n",
      "\u001B[1m375/375\u001B[0m \u001B[32m━━━━━━━━━━━━━━━━━━━━\u001B[0m\u001B[37m\u001B[0m \u001B[1m0s\u001B[0m 824us/step - loss: 129.3011\n",
      "Epoch 21/100\n",
      "\u001B[1m375/375\u001B[0m \u001B[32m━━━━━━━━━━━━━━━━━━━━\u001B[0m\u001B[37m\u001B[0m \u001B[1m0s\u001B[0m 825us/step - loss: 127.5640\n",
      "Epoch 22/100\n",
      "\u001B[1m375/375\u001B[0m \u001B[32m━━━━━━━━━━━━━━━━━━━━\u001B[0m\u001B[37m\u001B[0m \u001B[1m0s\u001B[0m 792us/step - loss: 123.2383\n",
      "Epoch 23/100\n",
      "\u001B[1m375/375\u001B[0m \u001B[32m━━━━━━━━━━━━━━━━━━━━\u001B[0m\u001B[37m\u001B[0m \u001B[1m0s\u001B[0m 803us/step - loss: 126.0460\n",
      "Epoch 24/100\n",
      "\u001B[1m375/375\u001B[0m \u001B[32m━━━━━━━━━━━━━━━━━━━━\u001B[0m\u001B[37m\u001B[0m \u001B[1m0s\u001B[0m 791us/step - loss: 125.7892\n",
      "Epoch 25/100\n",
      "\u001B[1m375/375\u001B[0m \u001B[32m━━━━━━━━━━━━━━━━━━━━\u001B[0m\u001B[37m\u001B[0m \u001B[1m0s\u001B[0m 791us/step - loss: 124.1252\n",
      "Epoch 26/100\n",
      "\u001B[1m375/375\u001B[0m \u001B[32m━━━━━━━━━━━━━━━━━━━━\u001B[0m\u001B[37m\u001B[0m \u001B[1m0s\u001B[0m 778us/step - loss: 120.2913\n",
      "Epoch 27/100\n",
      "\u001B[1m375/375\u001B[0m \u001B[32m━━━━━━━━━━━━━━━━━━━━\u001B[0m\u001B[37m\u001B[0m \u001B[1m0s\u001B[0m 881us/step - loss: 122.7899\n",
      "Epoch 28/100\n",
      "\u001B[1m375/375\u001B[0m \u001B[32m━━━━━━━━━━━━━━━━━━━━\u001B[0m\u001B[37m\u001B[0m \u001B[1m0s\u001B[0m 783us/step - loss: 125.9614\n",
      "Epoch 29/100\n",
      "\u001B[1m375/375\u001B[0m \u001B[32m━━━━━━━━━━━━━━━━━━━━\u001B[0m\u001B[37m\u001B[0m \u001B[1m0s\u001B[0m 792us/step - loss: 124.6079\n",
      "Epoch 30/100\n",
      "\u001B[1m375/375\u001B[0m \u001B[32m━━━━━━━━━━━━━━━━━━━━\u001B[0m\u001B[37m\u001B[0m \u001B[1m0s\u001B[0m 778us/step - loss: 122.3071\n",
      "Epoch 31/100\n",
      "\u001B[1m375/375\u001B[0m \u001B[32m━━━━━━━━━━━━━━━━━━━━\u001B[0m\u001B[37m\u001B[0m \u001B[1m0s\u001B[0m 786us/step - loss: 130.3559\n",
      "Epoch 32/100\n",
      "\u001B[1m375/375\u001B[0m \u001B[32m━━━━━━━━━━━━━━━━━━━━\u001B[0m\u001B[37m\u001B[0m \u001B[1m0s\u001B[0m 760us/step - loss: 130.8867\n",
      "Epoch 33/100\n",
      "\u001B[1m375/375\u001B[0m \u001B[32m━━━━━━━━━━━━━━━━━━━━\u001B[0m\u001B[37m\u001B[0m \u001B[1m0s\u001B[0m 753us/step - loss: 125.3610\n",
      "Epoch 34/100\n",
      "\u001B[1m375/375\u001B[0m \u001B[32m━━━━━━━━━━━━━━━━━━━━\u001B[0m\u001B[37m\u001B[0m \u001B[1m0s\u001B[0m 747us/step - loss: 124.4232\n",
      "Epoch 35/100\n",
      "\u001B[1m375/375\u001B[0m \u001B[32m━━━━━━━━━━━━━━━━━━━━\u001B[0m\u001B[37m\u001B[0m \u001B[1m0s\u001B[0m 766us/step - loss: 128.3938\n",
      "Epoch 36/100\n",
      "\u001B[1m375/375\u001B[0m \u001B[32m━━━━━━━━━━━━━━━━━━━━\u001B[0m\u001B[37m\u001B[0m \u001B[1m0s\u001B[0m 787us/step - loss: 124.9559\n",
      "Epoch 37/100\n",
      "\u001B[1m375/375\u001B[0m \u001B[32m━━━━━━━━━━━━━━━━━━━━\u001B[0m\u001B[37m\u001B[0m \u001B[1m0s\u001B[0m 783us/step - loss: 127.6247\n",
      "Epoch 38/100\n",
      "\u001B[1m375/375\u001B[0m \u001B[32m━━━━━━━━━━━━━━━━━━━━\u001B[0m\u001B[37m\u001B[0m \u001B[1m0s\u001B[0m 793us/step - loss: 129.4243\n",
      "Epoch 39/100\n",
      "\u001B[1m375/375\u001B[0m \u001B[32m━━━━━━━━━━━━━━━━━━━━\u001B[0m\u001B[37m\u001B[0m \u001B[1m0s\u001B[0m 793us/step - loss: 123.3627\n",
      "Epoch 40/100\n",
      "\u001B[1m375/375\u001B[0m \u001B[32m━━━━━━━━━━━━━━━━━━━━\u001B[0m\u001B[37m\u001B[0m \u001B[1m0s\u001B[0m 891us/step - loss: 128.4942\n",
      "Epoch 41/100\n",
      "\u001B[1m375/375\u001B[0m \u001B[32m━━━━━━━━━━━━━━━━━━━━\u001B[0m\u001B[37m\u001B[0m \u001B[1m0s\u001B[0m 763us/step - loss: 127.0890\n",
      "Epoch 42/100\n",
      "\u001B[1m375/375\u001B[0m \u001B[32m━━━━━━━━━━━━━━━━━━━━\u001B[0m\u001B[37m\u001B[0m \u001B[1m0s\u001B[0m 772us/step - loss: 125.4023\n",
      "Epoch 43/100\n",
      "\u001B[1m375/375\u001B[0m \u001B[32m━━━━━━━━━━━━━━━━━━━━\u001B[0m\u001B[37m\u001B[0m \u001B[1m0s\u001B[0m 766us/step - loss: 129.0199\n",
      "Epoch 44/100\n",
      "\u001B[1m375/375\u001B[0m \u001B[32m━━━━━━━━━━━━━━━━━━━━\u001B[0m\u001B[37m\u001B[0m \u001B[1m0s\u001B[0m 754us/step - loss: 129.2523\n",
      "Epoch 45/100\n",
      "\u001B[1m375/375\u001B[0m \u001B[32m━━━━━━━━━━━━━━━━━━━━\u001B[0m\u001B[37m\u001B[0m \u001B[1m0s\u001B[0m 775us/step - loss: 132.5567\n",
      "Epoch 46/100\n",
      "\u001B[1m375/375\u001B[0m \u001B[32m━━━━━━━━━━━━━━━━━━━━\u001B[0m\u001B[37m\u001B[0m \u001B[1m0s\u001B[0m 785us/step - loss: 129.8319\n",
      "Epoch 47/100\n",
      "\u001B[1m375/375\u001B[0m \u001B[32m━━━━━━━━━━━━━━━━━━━━\u001B[0m\u001B[37m\u001B[0m \u001B[1m0s\u001B[0m 752us/step - loss: 127.3120\n",
      "Epoch 48/100\n",
      "\u001B[1m375/375\u001B[0m \u001B[32m━━━━━━━━━━━━━━━━━━━━\u001B[0m\u001B[37m\u001B[0m \u001B[1m0s\u001B[0m 771us/step - loss: 126.0998\n",
      "Epoch 49/100\n",
      "\u001B[1m375/375\u001B[0m \u001B[32m━━━━━━━━━━━━━━━━━━━━\u001B[0m\u001B[37m\u001B[0m \u001B[1m0s\u001B[0m 756us/step - loss: 127.1661\n",
      "Epoch 50/100\n",
      "\u001B[1m375/375\u001B[0m \u001B[32m━━━━━━━━━━━━━━━━━━━━\u001B[0m\u001B[37m\u001B[0m \u001B[1m0s\u001B[0m 749us/step - loss: 127.0696\n",
      "Epoch 51/100\n",
      "\u001B[1m375/375\u001B[0m \u001B[32m━━━━━━━━━━━━━━━━━━━━\u001B[0m\u001B[37m\u001B[0m \u001B[1m0s\u001B[0m 759us/step - loss: 127.7829\n",
      "Epoch 52/100\n",
      "\u001B[1m375/375\u001B[0m \u001B[32m━━━━━━━━━━━━━━━━━━━━\u001B[0m\u001B[37m\u001B[0m \u001B[1m0s\u001B[0m 773us/step - loss: 125.3172\n",
      "Epoch 53/100\n",
      "\u001B[1m375/375\u001B[0m \u001B[32m━━━━━━━━━━━━━━━━━━━━\u001B[0m\u001B[37m\u001B[0m \u001B[1m0s\u001B[0m 777us/step - loss: 132.4288\n",
      "Epoch 54/100\n",
      "\u001B[1m375/375\u001B[0m \u001B[32m━━━━━━━━━━━━━━━━━━━━\u001B[0m\u001B[37m\u001B[0m \u001B[1m0s\u001B[0m 768us/step - loss: 128.8681\n",
      "Epoch 55/100\n",
      "\u001B[1m375/375\u001B[0m \u001B[32m━━━━━━━━━━━━━━━━━━━━\u001B[0m\u001B[37m\u001B[0m \u001B[1m0s\u001B[0m 800us/step - loss: 127.1904\n",
      "Epoch 56/100\n",
      "\u001B[1m375/375\u001B[0m \u001B[32m━━━━━━━━━━━━━━━━━━━━\u001B[0m\u001B[37m\u001B[0m \u001B[1m0s\u001B[0m 762us/step - loss: 124.0598\n",
      "Epoch 57/100\n",
      "\u001B[1m375/375\u001B[0m \u001B[32m━━━━━━━━━━━━━━━━━━━━\u001B[0m\u001B[37m\u001B[0m \u001B[1m0s\u001B[0m 736us/step - loss: 129.4752\n",
      "Epoch 58/100\n",
      "\u001B[1m375/375\u001B[0m \u001B[32m━━━━━━━━━━━━━━━━━━━━\u001B[0m\u001B[37m\u001B[0m \u001B[1m0s\u001B[0m 743us/step - loss: 131.0132\n",
      "Epoch 59/100\n",
      "\u001B[1m375/375\u001B[0m \u001B[32m━━━━━━━━━━━━━━━━━━━━\u001B[0m\u001B[37m\u001B[0m \u001B[1m0s\u001B[0m 765us/step - loss: 123.0693\n",
      "Epoch 60/100\n",
      "\u001B[1m375/375\u001B[0m \u001B[32m━━━━━━━━━━━━━━━━━━━━\u001B[0m\u001B[37m\u001B[0m \u001B[1m0s\u001B[0m 742us/step - loss: 126.8290\n",
      "Epoch 61/100\n",
      "\u001B[1m375/375\u001B[0m \u001B[32m━━━━━━━━━━━━━━━━━━━━\u001B[0m\u001B[37m\u001B[0m \u001B[1m0s\u001B[0m 737us/step - loss: 132.4680\n",
      "Epoch 62/100\n",
      "\u001B[1m375/375\u001B[0m \u001B[32m━━━━━━━━━━━━━━━━━━━━\u001B[0m\u001B[37m\u001B[0m \u001B[1m0s\u001B[0m 746us/step - loss: 128.2074\n",
      "Epoch 63/100\n",
      "\u001B[1m375/375\u001B[0m \u001B[32m━━━━━━━━━━━━━━━━━━━━\u001B[0m\u001B[37m\u001B[0m \u001B[1m0s\u001B[0m 767us/step - loss: 130.5829\n",
      "Epoch 64/100\n",
      "\u001B[1m375/375\u001B[0m \u001B[32m━━━━━━━━━━━━━━━━━━━━\u001B[0m\u001B[37m\u001B[0m \u001B[1m0s\u001B[0m 737us/step - loss: 126.7253\n",
      "Epoch 65/100\n",
      "\u001B[1m375/375\u001B[0m \u001B[32m━━━━━━━━━━━━━━━━━━━━\u001B[0m\u001B[37m\u001B[0m \u001B[1m0s\u001B[0m 744us/step - loss: 127.3908\n",
      "Epoch 66/100\n",
      "\u001B[1m375/375\u001B[0m \u001B[32m━━━━━━━━━━━━━━━━━━━━\u001B[0m\u001B[37m\u001B[0m \u001B[1m0s\u001B[0m 749us/step - loss: 130.8239\n",
      "Epoch 67/100\n",
      "\u001B[1m375/375\u001B[0m \u001B[32m━━━━━━━━━━━━━━━━━━━━\u001B[0m\u001B[37m\u001B[0m \u001B[1m0s\u001B[0m 754us/step - loss: 125.2284\n",
      "Epoch 68/100\n",
      "\u001B[1m375/375\u001B[0m \u001B[32m━━━━━━━━━━━━━━━━━━━━\u001B[0m\u001B[37m\u001B[0m \u001B[1m0s\u001B[0m 768us/step - loss: 125.1279\n",
      "Epoch 69/100\n",
      "\u001B[1m375/375\u001B[0m \u001B[32m━━━━━━━━━━━━━━━━━━━━\u001B[0m\u001B[37m\u001B[0m \u001B[1m0s\u001B[0m 768us/step - loss: 123.5000\n",
      "Epoch 70/100\n",
      "\u001B[1m375/375\u001B[0m \u001B[32m━━━━━━━━━━━━━━━━━━━━\u001B[0m\u001B[37m\u001B[0m \u001B[1m0s\u001B[0m 773us/step - loss: 128.2164\n",
      "Epoch 71/100\n",
      "\u001B[1m375/375\u001B[0m \u001B[32m━━━━━━━━━━━━━━━━━━━━\u001B[0m\u001B[37m\u001B[0m \u001B[1m0s\u001B[0m 753us/step - loss: 124.3068\n",
      "Epoch 72/100\n",
      "\u001B[1m375/375\u001B[0m \u001B[32m━━━━━━━━━━━━━━━━━━━━\u001B[0m\u001B[37m\u001B[0m \u001B[1m0s\u001B[0m 765us/step - loss: 127.2406\n",
      "Epoch 73/100\n",
      "\u001B[1m375/375\u001B[0m \u001B[32m━━━━━━━━━━━━━━━━━━━━\u001B[0m\u001B[37m\u001B[0m \u001B[1m0s\u001B[0m 763us/step - loss: 124.3478\n",
      "Epoch 74/100\n",
      "\u001B[1m375/375\u001B[0m \u001B[32m━━━━━━━━━━━━━━━━━━━━\u001B[0m\u001B[37m\u001B[0m \u001B[1m0s\u001B[0m 750us/step - loss: 128.9181\n",
      "Epoch 75/100\n",
      "\u001B[1m375/375\u001B[0m \u001B[32m━━━━━━━━━━━━━━━━━━━━\u001B[0m\u001B[37m\u001B[0m \u001B[1m0s\u001B[0m 747us/step - loss: 127.6058\n",
      "Epoch 76/100\n",
      "\u001B[1m375/375\u001B[0m \u001B[32m━━━━━━━━━━━━━━━━━━━━\u001B[0m\u001B[37m\u001B[0m \u001B[1m0s\u001B[0m 761us/step - loss: 125.2641\n",
      "Epoch 77/100\n",
      "\u001B[1m375/375\u001B[0m \u001B[32m━━━━━━━━━━━━━━━━━━━━\u001B[0m\u001B[37m\u001B[0m \u001B[1m0s\u001B[0m 768us/step - loss: 122.1835\n",
      "Epoch 78/100\n",
      "\u001B[1m375/375\u001B[0m \u001B[32m━━━━━━━━━━━━━━━━━━━━\u001B[0m\u001B[37m\u001B[0m \u001B[1m0s\u001B[0m 770us/step - loss: 129.2060\n",
      "Epoch 79/100\n",
      "\u001B[1m375/375\u001B[0m \u001B[32m━━━━━━━━━━━━━━━━━━━━\u001B[0m\u001B[37m\u001B[0m \u001B[1m0s\u001B[0m 750us/step - loss: 126.3659\n",
      "Epoch 80/100\n",
      "\u001B[1m375/375\u001B[0m \u001B[32m━━━━━━━━━━━━━━━━━━━━\u001B[0m\u001B[37m\u001B[0m \u001B[1m0s\u001B[0m 747us/step - loss: 124.5607\n",
      "Epoch 81/100\n",
      "\u001B[1m375/375\u001B[0m \u001B[32m━━━━━━━━━━━━━━━━━━━━\u001B[0m\u001B[37m\u001B[0m \u001B[1m0s\u001B[0m 752us/step - loss: 128.9606\n",
      "Epoch 82/100\n",
      "\u001B[1m375/375\u001B[0m \u001B[32m━━━━━━━━━━━━━━━━━━━━\u001B[0m\u001B[37m\u001B[0m \u001B[1m0s\u001B[0m 792us/step - loss: 124.4006\n",
      "Epoch 83/100\n",
      "\u001B[1m375/375\u001B[0m \u001B[32m━━━━━━━━━━━━━━━━━━━━\u001B[0m\u001B[37m\u001B[0m \u001B[1m0s\u001B[0m 783us/step - loss: 124.3868\n",
      "Epoch 84/100\n",
      "\u001B[1m375/375\u001B[0m \u001B[32m━━━━━━━━━━━━━━━━━━━━\u001B[0m\u001B[37m\u001B[0m \u001B[1m0s\u001B[0m 770us/step - loss: 127.6224\n",
      "Epoch 85/100\n",
      "\u001B[1m375/375\u001B[0m \u001B[32m━━━━━━━━━━━━━━━━━━━━\u001B[0m\u001B[37m\u001B[0m \u001B[1m0s\u001B[0m 751us/step - loss: 127.4093\n",
      "Epoch 86/100\n",
      "\u001B[1m375/375\u001B[0m \u001B[32m━━━━━━━━━━━━━━━━━━━━\u001B[0m\u001B[37m\u001B[0m \u001B[1m0s\u001B[0m 754us/step - loss: 129.1291\n",
      "Epoch 87/100\n",
      "\u001B[1m375/375\u001B[0m \u001B[32m━━━━━━━━━━━━━━━━━━━━\u001B[0m\u001B[37m\u001B[0m \u001B[1m0s\u001B[0m 781us/step - loss: 128.1891\n",
      "Epoch 88/100\n",
      "\u001B[1m375/375\u001B[0m \u001B[32m━━━━━━━━━━━━━━━━━━━━\u001B[0m\u001B[37m\u001B[0m \u001B[1m0s\u001B[0m 799us/step - loss: 128.4752\n",
      "Epoch 89/100\n",
      "\u001B[1m375/375\u001B[0m \u001B[32m━━━━━━━━━━━━━━━━━━━━\u001B[0m\u001B[37m\u001B[0m \u001B[1m0s\u001B[0m 782us/step - loss: 128.7740\n",
      "Epoch 90/100\n",
      "\u001B[1m375/375\u001B[0m \u001B[32m━━━━━━━━━━━━━━━━━━━━\u001B[0m\u001B[37m\u001B[0m \u001B[1m0s\u001B[0m 794us/step - loss: 127.6501\n",
      "Epoch 91/100\n",
      "\u001B[1m375/375\u001B[0m \u001B[32m━━━━━━━━━━━━━━━━━━━━\u001B[0m\u001B[37m\u001B[0m \u001B[1m0s\u001B[0m 752us/step - loss: 131.5220\n",
      "Epoch 92/100\n",
      "\u001B[1m375/375\u001B[0m \u001B[32m━━━━━━━━━━━━━━━━━━━━\u001B[0m\u001B[37m\u001B[0m \u001B[1m0s\u001B[0m 778us/step - loss: 123.8055\n",
      "Epoch 93/100\n",
      "\u001B[1m375/375\u001B[0m \u001B[32m━━━━━━━━━━━━━━━━━━━━\u001B[0m\u001B[37m\u001B[0m \u001B[1m0s\u001B[0m 772us/step - loss: 126.5717\n",
      "Epoch 94/100\n",
      "\u001B[1m375/375\u001B[0m \u001B[32m━━━━━━━━━━━━━━━━━━━━\u001B[0m\u001B[37m\u001B[0m \u001B[1m0s\u001B[0m 775us/step - loss: 129.7550\n",
      "Epoch 95/100\n",
      "\u001B[1m375/375\u001B[0m \u001B[32m━━━━━━━━━━━━━━━━━━━━\u001B[0m\u001B[37m\u001B[0m \u001B[1m0s\u001B[0m 737us/step - loss: 133.1454\n",
      "Epoch 96/100\n",
      "\u001B[1m375/375\u001B[0m \u001B[32m━━━━━━━━━━━━━━━━━━━━\u001B[0m\u001B[37m\u001B[0m \u001B[1m0s\u001B[0m 808us/step - loss: 129.5283\n",
      "Epoch 97/100\n",
      "\u001B[1m375/375\u001B[0m \u001B[32m━━━━━━━━━━━━━━━━━━━━\u001B[0m\u001B[37m\u001B[0m \u001B[1m0s\u001B[0m 847us/step - loss: 132.1199\n",
      "Epoch 98/100\n",
      "\u001B[1m375/375\u001B[0m \u001B[32m━━━━━━━━━━━━━━━━━━━━\u001B[0m\u001B[37m\u001B[0m \u001B[1m0s\u001B[0m 793us/step - loss: 125.3217\n",
      "Epoch 99/100\n",
      "\u001B[1m375/375\u001B[0m \u001B[32m━━━━━━━━━━━━━━━━━━━━\u001B[0m\u001B[37m\u001B[0m \u001B[1m0s\u001B[0m 809us/step - loss: 126.4589\n",
      "Epoch 100/100\n",
      "\u001B[1m375/375\u001B[0m \u001B[32m━━━━━━━━━━━━━━━━━━━━\u001B[0m\u001B[37m\u001B[0m \u001B[1m0s\u001B[0m 794us/step - loss: 129.4199\n"
     ]
    }
   ],
   "execution_count": 4
  },
  {
   "metadata": {},
   "cell_type": "markdown",
   "source": "Plot Loss Curve",
   "id": "4715042d7c3cf3da"
  },
  {
   "metadata": {
    "ExecuteTime": {
     "end_time": "2025-05-27T23:21:16.564963Z",
     "start_time": "2025-05-27T23:21:16.350614Z"
    }
   },
   "cell_type": "code",
   "source": [
    "import matplotlib.pyplot as plt\n",
    "\n",
    "plt.plot(history.history['loss'])\n",
    "plt.title('Loss Curve')\n",
    "plt.xlabel('Epoch')\n",
    "plt.ylabel('Mean Squared Error')\n",
    "plt.grid(True)\n",
    "plt.show()\n"
   ],
   "id": "a0d60ee9a3ff5f3a",
   "outputs": [
    {
     "data": {
      "text/plain": [
       "<Figure size 640x480 with 1 Axes>"
      ],
      "image/png": "[encoded data removed]"
     },
     "metadata": {},
     "output_type": "display_data"
    }
   ],
   "execution_count": 5
  },
  {
   "metadata": {},
   "cell_type": "markdown",
   "source": "Evaluate the Model",
   "id": "db8e874dd21f25f3"
  },
  {
   "metadata": {
    "ExecuteTime": {
     "end_time": "2025-05-27T23:21:53.822383Z",
     "start_time": "2025-05-27T23:21:53.614148Z"
    }
   },
   "cell_type": "code",
   "source": [
    "from sklearn.metrics import mean_squared_error, r2_score\n",
    "\n",
    "# Predict on test set\n",
    "y_pred = model.predict(X_test_scaled)\n",
    "\n",
    "# Evaluate\n",
    "mse = mean_squared_error(y_test, y_pred)\n",
    "r2 = r2_score(y_test, y_pred)\n",
    "\n",
    "print(f\"Test MSE: {mse:.2f}\")\n",
    "print(f\"Test R²: {r2:.2f}\")\n"
   ],
   "id": "b3ee7e3bbe3cb6b",
   "outputs": [
    {
     "name": "stdout",
     "output_type": "stream",
     "text": [
      "\u001B[1m94/94\u001B[0m \u001B[32m━━━━━━━━━━━━━━━━━━━━\u001B[0m\u001B[37m\u001B[0m \u001B[1m0s\u001B[0m 848us/step\n",
      "Test MSE: 131.89\n",
      "Test R²: 0.97\n"
     ]
    }
   ],
   "execution_count": 6
  },
  {
   "metadata": {},
   "cell_type": "markdown",
   "source": "Inspect Learned Weights",
   "id": "21ecd0f0165ad858"
  },
  {
   "metadata": {
    "ExecuteTime": {
     "end_time": "2025-05-27T23:22:22.744185Z",
     "start_time": "2025-05-27T23:22:22.734704Z"
    }
   },
   "cell_type": "code",
   "source": [
    "weights, bias = model.layers[0].get_weights()\n",
    "print(\"Feature Weights:\", weights.flatten())\n",
    "print(\"Bias:\", bias[0])\n"
   ],
   "id": "9f08a6c5850a6d2a",
   "outputs": [
    {
     "name": "stdout",
     "output_type": "stream",
     "text": [
      "Feature Weights: [ -0.40916497   8.549349    -2.2528288    4.487448    55.004585\n",
      "  18.994347   -13.305619  ]\n",
      "Bias: 89.25391\n"
     ]
    }
   ],
   "execution_count": 7
  },
  {
   "metadata": {
    "ExecuteTime": {
     "end_time": "2025-05-27T23:22:51.883949Z",
     "start_time": "2025-05-27T23:22:51.878446Z"
    }
   },
   "cell_type": "code",
   "source": [
    "feature_names = df.drop(columns=['Calories']).columns\n",
    "for name, weight in zip(feature_names, weights.flatten()):\n",
    "    print(f\"{name}: {weight:.4f}\")\n"
   ],
   "id": "2bf53ff1d4b68b82",
   "outputs": [
    {
     "name": "stdout",
     "output_type": "stream",
     "text": [
      "Gender: -0.4092\n",
      "Age: 8.5493\n",
      "Height: -2.2528\n",
      "Weight: 4.4874\n",
      "Duration: 55.0046\n",
      "Heart_Rate: 18.9943\n",
      "Body_Temp: -13.3056\n"
     ]
    }
   ],
   "execution_count": 8
  },
  {
   "metadata": {},
   "cell_type": "markdown",
   "source": "Save Feature Weight Bar Chart",
   "id": "b7a1acd537521d9f"
  },
  {
   "metadata": {
    "ExecuteTime": {
     "end_time": "2025-05-27T23:27:05.559522Z",
     "start_time": "2025-05-27T23:27:05.387818Z"
    }
   },
   "cell_type": "code",
   "source": [
    "import numpy as np\n",
    "import matplotlib.pyplot as plt\n",
    "import os\n",
    "\n",
    "# Create directory if not exists\n",
    "os.makedirs('../outputs/plots', exist_ok=True)\n",
    "\n",
    "# Plot feature weights\n",
    "plt.figure(figsize=(10, 6))\n",
    "plt.barh(feature_names, weights.flatten(), color='skyblue')\n",
    "plt.axvline(0, color='gray', linestyle='--')\n",
    "plt.title('Feature Weights Learned by Linear Regression Model')\n",
    "plt.xlabel('Weight Value')\n",
    "plt.tight_layout()\n",
    "\n",
    "# Save plot\n",
    "plt.savefig('../outputs/plots/feature_weights.png')\n",
    "plt.show()\n"
   ],
   "id": "2d52eef656f1262b",
   "outputs": [
    {
     "data": {
      "text/plain": [
       "<Figure size 1000x600 with 1 Axes>"
      ],
      "image/png": "[encoded data removed]"
     },
     "metadata": {},
     "output_type": "display_data"
    }
   ],
   "execution_count": 9
  }
 ],
 "metadata": {
  "kernelspec": {
   "name": "python3",
   "language": "python",
   "display_name": "Python 3 (ipykernel)"
  }
 },
 "nbformat": 5,
 "nbformat_minor": 9
}
